{
  "cells": [
    {
      "cell_type": "code",
      "execution_count": null,
      "metadata": {
        "id": "yPZgvZAnTTCX"
      },
      "outputs": [],
      "source": [
        "import zipfile"
      ]
    },
    {
      "cell_type": "code",
      "execution_count": null,
      "metadata": {
        "id": "ynW6n1r_Ijkx"
      },
      "outputs": [],
      "source": [
        "def extract_txtFolders (foldername):\n",
        "  file_list = []\n",
        "  with zipfile.ZipFile(foldername,'r') as zip_file:\n",
        "    file_list = zip_file.namelist()\n",
        "\n",
        "    return file_list\n"
      ]
    },
    {
      "cell_type": "code",
      "execution_count": null,
      "metadata": {
        "id": "mD4wHyPuMY96"
      },
      "outputs": [],
      "source": [
        "def separate1txttocolumns(foldername):\n",
        "  Date = []\n",
        "  Time = []\n",
        "  Gen_status = []\n",
        "  Gen_freq = []\n",
        "  Gen_volt = []\n",
        "  Grid_status = []\n",
        "  Grid_freq = []\n",
        "  Grid_volt = []\n",
        "  Input_current = []\n",
        "  Input_VA = []\n",
        "  Input_watt = []\n",
        "  Output_freq = []\n",
        "  Output_volt = []\n",
        "  Output_current = []\n",
        "  Output_VA = []\n",
        "  Output_watt = []\n",
        "  Battery_volt = []\n",
        "  Battery_current = []\n",
        "  External_current = []\n",
        "  Battery_temperature = []\n",
        "  Transformer_temperature = []\n",
        "  Bus_bar_temperature = []\n",
        "  Heat_sink_temperature = []\n",
        "  Fan_speed = []\n",
        "  Mode = []\n",
        "  Error_code = []\n",
        "  Charge_stage = []\n",
        "  Event = []\n",
        "\n",
        "  with zipfile.ZipFile(foldername,'r') as zip_file:\n",
        "    fileList = extract_txtFolders (foldername)\n",
        "    del fileList[-1]\n",
        "\n",
        "    for files in fileList:\n",
        "      with zip_file.open(files,'r') as myfile:\n",
        "        content = myfile.readlines()\n",
        "        Date_x = []\n",
        "        Time_x = []\n",
        "        Gen_status_x = []\n",
        "        Gen_freq_x = []\n",
        "        Gen_volt_x = []\n",
        "        Grid_status_x = []\n",
        "        Grid_freq_x = []\n",
        "        Grid_volt_x = []\n",
        "        Input_current_x = []\n",
        "        Input_VA_x = []\n",
        "        Input_watt_x = []\n",
        "        Output_freq_x = []\n",
        "        Output_volt_x = []\n",
        "        Output_current_x = []\n",
        "        Output_VA_x = []\n",
        "        Output_watt_x = []\n",
        "        Battery_volt_x = []\n",
        "        Battery_current_x = []\n",
        "        External_current_x = []\n",
        "        Battery_temperature_x = []\n",
        "        Transformer_temperature_x = []\n",
        "        Bus_bar_temperature_x = []\n",
        "        Heat_sink_temperature_x = []\n",
        "        Fan_speed_x = []\n",
        "        Mode_x = []\n",
        "        Error_code_x = []\n",
        "        Charge_stage_x = []\n",
        "        Event_x = []\n",
        "\n",
        "        for line in content:\n",
        "          if line != b'EVO-2224 \\r\\n' and line != b'Date;Time;Gen status;Gen freq;Gen volt;Grid status;Grid freq;Grid volt;Input current;Input VA;Input watt;Output freq;Output volt;Output current;Output VA;Output watt;Battery volt;Battery current;External current;Battery temperature(C);Transformer temperature(C);Bus bar temperature(C);Heat sink temperature(C);Fan speed;Mode;Error code;Charge stage;Event;                                                                                                                                                \\r\\n':\n",
        "            Date_x,Time_x,Gen_status_x,Gen_freq_x,Gen_volt_x,Grid_status_x,Grid_freq_x,Grid_volt_x,Input_current_x,Input_VA_x,Input_watt_x,Output_freq_x,Output_volt_x,Output_current_x,Output_VA_x,Output_watt_x,Battery_volt_x,Battery_current_x,External_current_x,Battery_temperature_x,Transformer_temperature_x,Bus_bar_temperature_x,Heat_sink_temperature_x,Fan_speed_x,Mode_x,Error_code_x,Charge_stage_x,Event_x = line.decode().split(';', 27)\n",
        "            Date.append(Date_x)\n",
        "            Time.append(Time_x)\n",
        "            Gen_status.append(Gen_status_x)\n",
        "            Gen_freq.append(Gen_freq_x)\n",
        "            Gen_volt.append(Gen_volt_x)\n",
        "            Grid_status.append(Grid_status_x)\n",
        "            Grid_freq.append(Grid_freq_x)\n",
        "            Grid_volt.append(Grid_volt_x)\n",
        "            Input_current.append(Input_current_x)\n",
        "            Input_VA.append(Input_VA_x)\n",
        "            Input_watt.append(Input_watt_x)\n",
        "            Output_freq.append(Output_freq_x)\n",
        "            Output_volt.append(Output_volt_x)\n",
        "            Output_current.append(Output_current_x)\n",
        "            Output_VA.append(Output_VA_x)\n",
        "            Output_watt.append(Output_watt_x)\n",
        "            Battery_volt.append(Battery_volt_x)\n",
        "            Battery_current.append(Battery_current_x)\n",
        "            External_current.append(External_current_x)\n",
        "            Battery_temperature.append(Battery_temperature_x)\n",
        "            Transformer_temperature.append(Transformer_temperature_x)\n",
        "            Bus_bar_temperature.append(Bus_bar_temperature_x)\n",
        "            Heat_sink_temperature.append(Heat_sink_temperature_x)\n",
        "            Fan_speed.append(Fan_speed_x)\n",
        "            Mode.append(Mode_x)\n",
        "            Error_code.append(Error_code_x)\n",
        "            Charge_stage.append(Charge_stage_x)\n",
        "            Event.append(Event_x)\n",
        "          else:\n",
        "            data = 0\n",
        "  return [Date,Time,Input_current,Input_VA,Input_watt,Output_freq,Output_volt,Output_current,Output_watt,Battery_volt,Battery_current,External_current,Transformer_temperature,Bus_bar_temperature,Heat_sink_temperature,Fan_speed,Charge_stage]"
      ]
    },
    {
      "cell_type": "code",
      "execution_count": null,
      "metadata": {
        "id": "EKyn8PrsIXG0"
      },
      "outputs": [],
      "source": [
        "from ctypes import sizeof\n",
        "#AGRUM.iopub_data_rate_limit=10000000.0\n",
        "# This is the main\n",
        "folderNameMain = 'Periode1.zip'\n",
        "MAJORDATA = separate1txttocolumns(folderNameMain)"
      ]
    }
  ],
  "metadata": {
    "colab": {
      "provenance": []
    },
    "kernelspec": {
      "display_name": "Python 3",
      "name": "python3"
    },
    "language_info": {
      "name": "python"
    }
  },
  "nbformat": 4,
  "nbformat_minor": 0
}